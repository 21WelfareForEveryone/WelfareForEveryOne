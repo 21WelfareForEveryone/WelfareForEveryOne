{
 "cells": [
  {
   "cell_type": "code",
   "execution_count": 7,
   "source": [
    "import mysql.connector\n",
    "from mysql.connector.constants import ClientFlag\n",
    "import pandas as pd"
   ],
   "outputs": [],
   "metadata": {}
  },
  {
   "cell_type": "code",
   "execution_count": 2,
   "source": [
    "import config\n",
    "\n",
    "# now we establish our connection\n",
    "cnxn = mysql.connector.connect(**config.DATABASE_CONFIG)\n",
    "cursor = cnxn.cursor(prepared=True)"
   ],
   "outputs": [],
   "metadata": {}
  },
  {
   "cell_type": "code",
   "execution_count": 19,
   "source": [
    "# now we establish our connection\n",
    "query = (\"\"\"SELECT welfare_id, title, summary from welfare\"\"\") #table name 바꾸는 거 기억하기 #error 나는 이유가 tuple이 아니라 numpy.record이기 때문\n",
    "cursor.execute(query)"
   ],
   "outputs": [],
   "metadata": {}
  },
  {
   "cell_type": "code",
   "execution_count": 20,
   "source": [
    "welfare_for_embedding = pd.DataFrame(columns=['welfare_id', 'title', 'summary'])\n",
    "for row in cursor:\n",
    "    pd_row = pd.DataFrame([row], columns=['welfare_id', 'title', 'summary'] )\n",
    "    welfare_for_embedding = welfare_for_embedding.append(pd_row, ignore_index=True)"
   ],
   "outputs": [],
   "metadata": {}
  },
  {
   "cell_type": "code",
   "execution_count": 22,
   "source": [
    "welfare_for_embedding.head()"
   ],
   "outputs": [
    {
     "output_type": "execute_result",
     "data": {
      "text/html": [
       "<div>\n",
       "<style scoped>\n",
       "    .dataframe tbody tr th:only-of-type {\n",
       "        vertical-align: middle;\n",
       "    }\n",
       "\n",
       "    .dataframe tbody tr th {\n",
       "        vertical-align: top;\n",
       "    }\n",
       "\n",
       "    .dataframe thead th {\n",
       "        text-align: right;\n",
       "    }\n",
       "</style>\n",
       "<table border=\"1\" class=\"dataframe\">\n",
       "  <thead>\n",
       "    <tr style=\"text-align: right;\">\n",
       "      <th></th>\n",
       "      <th>welfare_id</th>\n",
       "      <th>title</th>\n",
       "      <th>summary</th>\n",
       "    </tr>\n",
       "  </thead>\n",
       "  <tbody>\n",
       "    <tr>\n",
       "      <th>0</th>\n",
       "      <td>0</td>\n",
       "      <td>청소년한부모 자립지원</td>\n",
       "      <td>청소년 한부모가 자녀를 양육하고 자립할 수 있도록 지원합니다.</td>\n",
       "    </tr>\n",
       "    <tr>\n",
       "      <th>1</th>\n",
       "      <td>1</td>\n",
       "      <td>긴급복지 생계지원</td>\n",
       "      <td>갑작스럽게 생계곤란 등 위기상황에 처하여 도움이 필요한 사람을 신속하게 지원하여 위...</td>\n",
       "    </tr>\n",
       "    <tr>\n",
       "      <th>2</th>\n",
       "      <td>2</td>\n",
       "      <td>교육복지 우선지원사업</td>\n",
       "      <td>취약계층 학생이 밀집한 학교를 선정하여 집중 지원함으로써 교육·문화·복지 수준을 높...</td>\n",
       "    </tr>\n",
       "    <tr>\n",
       "      <th>3</th>\n",
       "      <td>3</td>\n",
       "      <td>방과후 보육료 지원</td>\n",
       "      <td>어린이집을 이용하는 취학아동의 방과후 보육료를 지원하여 양육의 부담을 줄이고 원활한...</td>\n",
       "    </tr>\n",
       "    <tr>\n",
       "      <th>4</th>\n",
       "      <td>4</td>\n",
       "      <td>취약계층 환경성질환 예방사업</td>\n",
       "      <td>실내환경 진단 및 컨설팅, 실내환경 개선, 환경성질환자(소아·청소년·어르신) 진료지...</td>\n",
       "    </tr>\n",
       "  </tbody>\n",
       "</table>\n",
       "</div>"
      ],
      "text/plain": [
       "  welfare_id            title  \\\n",
       "0          0      청소년한부모 자립지원   \n",
       "1          1        긴급복지 생계지원   \n",
       "2          2      교육복지 우선지원사업   \n",
       "3          3       방과후 보육료 지원   \n",
       "4          4  취약계층 환경성질환 예방사업   \n",
       "\n",
       "                                             summary  \n",
       "0                 청소년 한부모가 자녀를 양육하고 자립할 수 있도록 지원합니다.  \n",
       "1  갑작스럽게 생계곤란 등 위기상황에 처하여 도움이 필요한 사람을 신속하게 지원하여 위...  \n",
       "2  취약계층 학생이 밀집한 학교를 선정하여 집중 지원함으로써 교육·문화·복지 수준을 높...  \n",
       "3  어린이집을 이용하는 취학아동의 방과후 보육료를 지원하여 양육의 부담을 줄이고 원활한...  \n",
       "4  실내환경 진단 및 컨설팅, 실내환경 개선, 환경성질환자(소아·청소년·어르신) 진료지...  "
      ]
     },
     "metadata": {},
     "execution_count": 22
    }
   ],
   "metadata": {}
  },
  {
   "cell_type": "code",
   "execution_count": 23,
   "source": [
    "welfare_for_embedding['full'] = welfare_for_embedding.title+' '+welfare_for_embedding.summary"
   ],
   "outputs": [],
   "metadata": {}
  },
  {
   "cell_type": "code",
   "execution_count": 24,
   "source": [
    "welfare_for_embedding.head()"
   ],
   "outputs": [
    {
     "output_type": "execute_result",
     "data": {
      "text/html": [
       "<div>\n",
       "<style scoped>\n",
       "    .dataframe tbody tr th:only-of-type {\n",
       "        vertical-align: middle;\n",
       "    }\n",
       "\n",
       "    .dataframe tbody tr th {\n",
       "        vertical-align: top;\n",
       "    }\n",
       "\n",
       "    .dataframe thead th {\n",
       "        text-align: right;\n",
       "    }\n",
       "</style>\n",
       "<table border=\"1\" class=\"dataframe\">\n",
       "  <thead>\n",
       "    <tr style=\"text-align: right;\">\n",
       "      <th></th>\n",
       "      <th>welfare_id</th>\n",
       "      <th>title</th>\n",
       "      <th>summary</th>\n",
       "      <th>full</th>\n",
       "    </tr>\n",
       "  </thead>\n",
       "  <tbody>\n",
       "    <tr>\n",
       "      <th>0</th>\n",
       "      <td>0</td>\n",
       "      <td>청소년한부모 자립지원</td>\n",
       "      <td>청소년 한부모가 자녀를 양육하고 자립할 수 있도록 지원합니다.</td>\n",
       "      <td>청소년한부모 자립지원 청소년 한부모가 자녀를 양육하고 자립할 수 있도록 지원합니다.</td>\n",
       "    </tr>\n",
       "    <tr>\n",
       "      <th>1</th>\n",
       "      <td>1</td>\n",
       "      <td>긴급복지 생계지원</td>\n",
       "      <td>갑작스럽게 생계곤란 등 위기상황에 처하여 도움이 필요한 사람을 신속하게 지원하여 위...</td>\n",
       "      <td>긴급복지 생계지원 갑작스럽게 생계곤란 등 위기상황에 처하여 도움이 필요한 사람을 신...</td>\n",
       "    </tr>\n",
       "    <tr>\n",
       "      <th>2</th>\n",
       "      <td>2</td>\n",
       "      <td>교육복지 우선지원사업</td>\n",
       "      <td>취약계층 학생이 밀집한 학교를 선정하여 집중 지원함으로써 교육·문화·복지 수준을 높...</td>\n",
       "      <td>교육복지 우선지원사업 취약계층 학생이 밀집한 학교를 선정하여 집중 지원함으로써 교육...</td>\n",
       "    </tr>\n",
       "    <tr>\n",
       "      <th>3</th>\n",
       "      <td>3</td>\n",
       "      <td>방과후 보육료 지원</td>\n",
       "      <td>어린이집을 이용하는 취학아동의 방과후 보육료를 지원하여 양육의 부담을 줄이고 원활한...</td>\n",
       "      <td>방과후 보육료 지원 어린이집을 이용하는 취학아동의 방과후 보육료를 지원하여 양육의 ...</td>\n",
       "    </tr>\n",
       "    <tr>\n",
       "      <th>4</th>\n",
       "      <td>4</td>\n",
       "      <td>취약계층 환경성질환 예방사업</td>\n",
       "      <td>실내환경 진단 및 컨설팅, 실내환경 개선, 환경성질환자(소아·청소년·어르신) 진료지...</td>\n",
       "      <td>취약계층 환경성질환 예방사업 실내환경 진단 및 컨설팅, 실내환경 개선, 환경성질환자...</td>\n",
       "    </tr>\n",
       "  </tbody>\n",
       "</table>\n",
       "</div>"
      ],
      "text/plain": [
       "  welfare_id            title  \\\n",
       "0          0      청소년한부모 자립지원   \n",
       "1          1        긴급복지 생계지원   \n",
       "2          2      교육복지 우선지원사업   \n",
       "3          3       방과후 보육료 지원   \n",
       "4          4  취약계층 환경성질환 예방사업   \n",
       "\n",
       "                                             summary  \\\n",
       "0                 청소년 한부모가 자녀를 양육하고 자립할 수 있도록 지원합니다.   \n",
       "1  갑작스럽게 생계곤란 등 위기상황에 처하여 도움이 필요한 사람을 신속하게 지원하여 위...   \n",
       "2  취약계층 학생이 밀집한 학교를 선정하여 집중 지원함으로써 교육·문화·복지 수준을 높...   \n",
       "3  어린이집을 이용하는 취학아동의 방과후 보육료를 지원하여 양육의 부담을 줄이고 원활한...   \n",
       "4  실내환경 진단 및 컨설팅, 실내환경 개선, 환경성질환자(소아·청소년·어르신) 진료지...   \n",
       "\n",
       "                                                full  \n",
       "0     청소년한부모 자립지원 청소년 한부모가 자녀를 양육하고 자립할 수 있도록 지원합니다.  \n",
       "1  긴급복지 생계지원 갑작스럽게 생계곤란 등 위기상황에 처하여 도움이 필요한 사람을 신...  \n",
       "2  교육복지 우선지원사업 취약계층 학생이 밀집한 학교를 선정하여 집중 지원함으로써 교육...  \n",
       "3  방과후 보육료 지원 어린이집을 이용하는 취학아동의 방과후 보육료를 지원하여 양육의 ...  \n",
       "4  취약계층 환경성질환 예방사업 실내환경 진단 및 컨설팅, 실내환경 개선, 환경성질환자...  "
      ]
     },
     "metadata": {},
     "execution_count": 24
    }
   ],
   "metadata": {}
  },
  {
   "cell_type": "code",
   "execution_count": 25,
   "source": [
    "welfare_for_embedding.info()"
   ],
   "outputs": [
    {
     "output_type": "stream",
     "name": "stdout",
     "text": [
      "<class 'pandas.core.frame.DataFrame'>\n",
      "RangeIndex: 407 entries, 0 to 406\n",
      "Data columns (total 4 columns):\n",
      " #   Column      Non-Null Count  Dtype \n",
      "---  ------      --------------  ----- \n",
      " 0   welfare_id  407 non-null    object\n",
      " 1   title       407 non-null    object\n",
      " 2   summary     407 non-null    object\n",
      " 3   full        407 non-null    object\n",
      "dtypes: object(4)\n",
      "memory usage: 12.8+ KB\n"
     ]
    }
   ],
   "metadata": {}
  },
  {
   "cell_type": "code",
   "execution_count": 27,
   "source": [
    "welfare_for_embedding.to_csv('welfare_for_embedding.csv', index=False,  encoding=\"utf-8-sig\")"
   ],
   "outputs": [],
   "metadata": {}
  },
  {
   "cell_type": "code",
   "execution_count": null,
   "source": [],
   "outputs": [],
   "metadata": {}
  }
 ],
 "metadata": {
  "kernelspec": {
   "display_name": "Python 3 (ipykernel)",
   "language": "python",
   "name": "python3"
  },
  "language_info": {
   "codemirror_mode": {
    "name": "ipython",
    "version": 3
   },
   "file_extension": ".py",
   "mimetype": "text/x-python",
   "name": "python",
   "nbconvert_exporter": "python",
   "pygments_lexer": "ipython3",
   "version": "3.8.11"
  }
 },
 "nbformat": 4,
 "nbformat_minor": 5
}