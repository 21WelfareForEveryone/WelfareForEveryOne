{
 "cells": [
  {
   "cell_type": "code",
   "execution_count": 1,
   "source": [
    "# 라이브러리 불러오기\n",
    "import os\n",
    "import pandas as pd\n",
    "import numpy as np\n",
    "from numpy import nan"
   ],
   "outputs": [],
   "metadata": {}
  },
  {
   "cell_type": "code",
   "execution_count": 2,
   "source": [
    "csv_df = pd.read_csv('민간.csv', engine='python',encoding='utf-8-sig')"
   ],
   "outputs": [],
   "metadata": {}
  },
  {
   "cell_type": "code",
   "execution_count": 3,
   "source": [
    "csv_df.info()"
   ],
   "outputs": [
    {
     "output_type": "stream",
     "name": "stdout",
     "text": [
      "<class 'pandas.core.frame.DataFrame'>\n",
      "RangeIndex: 53 entries, 0 to 52\n",
      "Data columns (total 7 columns):\n",
      " #   Column      Non-Null Count  Dtype \n",
      "---  ------      --------------  ----- \n",
      " 0   title       53 non-null     object\n",
      " 1   summary     28 non-null     object\n",
      " 2   who         53 non-null     object\n",
      " 3   what        53 non-null     object\n",
      " 4   category    51 non-null     object\n",
      " 5   start_date  53 non-null     object\n",
      " 6   end_date    53 non-null     object\n",
      "dtypes: object(7)\n",
      "memory usage: 3.0+ KB\n"
     ]
    }
   ],
   "metadata": {}
  },
  {
   "cell_type": "code",
   "execution_count": 4,
   "source": [
    "csv_df.isna().sum()"
   ],
   "outputs": [
    {
     "output_type": "execute_result",
     "data": {
      "text/plain": [
       "title          0\n",
       "summary       25\n",
       "who            0\n",
       "what           0\n",
       "category       2\n",
       "start_date     0\n",
       "end_date       0\n",
       "dtype: int64"
      ]
     },
     "metadata": {},
     "execution_count": 4
    }
   ],
   "metadata": {}
  },
  {
   "cell_type": "code",
   "execution_count": 5,
   "source": [
    "# summary가 nan인 부분은 \"해당없음\"으로 만들기\n",
    "csv_df = csv_df.fillna('해당없음')\n",
    "# 카테고리가 nan인 부분은 행 전체 없애기\n",
    "csv_df = csv_df[csv_df.category!=\"해당없음\"]"
   ],
   "outputs": [],
   "metadata": {}
  },
  {
   "cell_type": "code",
   "execution_count": 6,
   "source": [
    "csv_df.info()"
   ],
   "outputs": [
    {
     "output_type": "stream",
     "name": "stdout",
     "text": [
      "<class 'pandas.core.frame.DataFrame'>\n",
      "Int64Index: 51 entries, 0 to 52\n",
      "Data columns (total 7 columns):\n",
      " #   Column      Non-Null Count  Dtype \n",
      "---  ------      --------------  ----- \n",
      " 0   title       51 non-null     object\n",
      " 1   summary     51 non-null     object\n",
      " 2   who         51 non-null     object\n",
      " 3   what        51 non-null     object\n",
      " 4   category    51 non-null     object\n",
      " 5   start_date  51 non-null     object\n",
      " 6   end_date    51 non-null     object\n",
      "dtypes: object(7)\n",
      "memory usage: 3.2+ KB\n"
     ]
    }
   ],
   "metadata": {}
  },
  {
   "cell_type": "code",
   "execution_count": 7,
   "source": [
    "csv_df.head()"
   ],
   "outputs": [
    {
     "output_type": "execute_result",
     "data": {
      "text/html": [
       "<div>\n",
       "<style scoped>\n",
       "    .dataframe tbody tr th:only-of-type {\n",
       "        vertical-align: middle;\n",
       "    }\n",
       "\n",
       "    .dataframe tbody tr th {\n",
       "        vertical-align: top;\n",
       "    }\n",
       "\n",
       "    .dataframe thead th {\n",
       "        text-align: right;\n",
       "    }\n",
       "</style>\n",
       "<table border=\"1\" class=\"dataframe\">\n",
       "  <thead>\n",
       "    <tr style=\"text-align: right;\">\n",
       "      <th></th>\n",
       "      <th>title</th>\n",
       "      <th>summary</th>\n",
       "      <th>who</th>\n",
       "      <th>what</th>\n",
       "      <th>category</th>\n",
       "      <th>start_date</th>\n",
       "      <th>end_date</th>\n",
       "    </tr>\n",
       "  </thead>\n",
       "  <tbody>\n",
       "    <tr>\n",
       "      <th>0</th>\n",
       "      <td>2021년 피해학대아동 심리치료 지원 (~8/20까지)</td>\n",
       "      <td>플랜코리아에서는 사회복지공동모금회의 지원으로 현대로템과 함께 피학대아동들을 위해 심...</td>\n",
       "      <td>지원대상 : 피학대아동 중 심리치료비가 필요한 아동\\n1. 기본조건\\n1) 만 18...</td>\n",
       "      <td>지원내용 : 아동 1인당 총 120만원 심리치료비 지원(종합검사 필요 시 종합심리검...</td>\n",
       "      <td>,9,11</td>\n",
       "      <td>2021-09-01</td>\n",
       "      <td>2022-08-31</td>\n",
       "    </tr>\n",
       "    <tr>\n",
       "      <th>1</th>\n",
       "      <td>복지용구 및 노인체험</td>\n",
       "      <td>1.다양한 복지용구 체험 기회 마련, 대상자별 맞춤 제공으로 복지용구 및 노인에 대...</td>\n",
       "      <td>부산 지역주민 누구나(참여비 무료, 최소 5명이상)</td>\n",
       "      <td>◆복지용구 체험\\n- 복지용구 안내, 상담\\n- 운영사업 내용안내\\n- 노인장기요양...</td>\n",
       "      <td>,4</td>\n",
       "      <td>2021-07-28</td>\n",
       "      <td>2022-07-28</td>\n",
       "    </tr>\n",
       "    <tr>\n",
       "      <th>2</th>\n",
       "      <td>24시간 장애인 도움콜☎</td>\n",
       "      <td>장애인 및 장애인 가족에게 도움이 필요한 순간 '위기대응전문사회복지요원'이 출동하여...</td>\n",
       "      <td>서울에 거주하는 위기상황에 처한 장애인 및 장애인 가족</td>\n",
       "      <td>주 보호자의 부재로 인한 돌봄 공백, 병원 동행 지원, 이동 동행 지원 등 장애인 ...</td>\n",
       "      <td>,11,8</td>\n",
       "      <td>2021-01-01</td>\n",
       "      <td>2021-12-31</td>\n",
       "    </tr>\n",
       "    <tr>\n",
       "      <th>3</th>\n",
       "      <td>장기요양서비스 (방문요양.차량방문목욕)</td>\n",
       "      <td>만 65세 이상의 노인 및 노인성질환으로 도움이 필요한 분 등을 대상으로 장기요양서...</td>\n",
       "      <td>노인장기요양인정을 받은 만 65세 이상의 거동이 불편한 노인 및 노인성질환으로 힘든 성인</td>\n",
       "      <td>노인장기요양서비스 재가방문요양. 차량방문목욕\\n\\n-방문요양\\n1. 신체활동지원 \\...</td>\n",
       "      <td>,3,4</td>\n",
       "      <td>2021-01-01</td>\n",
       "      <td>2021-12-31</td>\n",
       "    </tr>\n",
       "    <tr>\n",
       "      <th>4</th>\n",
       "      <td>다솜이 드림메이커스 (IT 교육지원 프로그램)</td>\n",
       "      <td>본 사업은 생명보험사회공헌재단과 교보생명이 후원하고 재단법인 홍합밸리가 운영하는 사...</td>\n",
       "      <td>- 서울, 경기지역 거주자 중 아래에 해당하는 자\\n \\n  1) 드론 : 사회적배...</td>\n",
       "      <td>- 자격증 취득을 위한 교육비 및 시험비\\n \\n  1) 드론 : 초경량비행장치 무...</td>\n",
       "      <td>,9,8,6</td>\n",
       "      <td>2021-01-01</td>\n",
       "      <td>2021-12-31</td>\n",
       "    </tr>\n",
       "  </tbody>\n",
       "</table>\n",
       "</div>"
      ],
      "text/plain": [
       "                            title  \\\n",
       "0  2021년 피해학대아동 심리치료 지원 (~8/20까지)   \n",
       "1                     복지용구 및 노인체험   \n",
       "2                   24시간 장애인 도움콜☎   \n",
       "3           장기요양서비스 (방문요양.차량방문목욕)   \n",
       "4       다솜이 드림메이커스 (IT 교육지원 프로그램)   \n",
       "\n",
       "                                             summary  \\\n",
       "0  플랜코리아에서는 사회복지공동모금회의 지원으로 현대로템과 함께 피학대아동들을 위해 심...   \n",
       "1  1.다양한 복지용구 체험 기회 마련, 대상자별 맞춤 제공으로 복지용구 및 노인에 대...   \n",
       "2  장애인 및 장애인 가족에게 도움이 필요한 순간 '위기대응전문사회복지요원'이 출동하여...   \n",
       "3  만 65세 이상의 노인 및 노인성질환으로 도움이 필요한 분 등을 대상으로 장기요양서...   \n",
       "4  본 사업은 생명보험사회공헌재단과 교보생명이 후원하고 재단법인 홍합밸리가 운영하는 사...   \n",
       "\n",
       "                                                 who  \\\n",
       "0  지원대상 : 피학대아동 중 심리치료비가 필요한 아동\\n1. 기본조건\\n1) 만 18...   \n",
       "1                       부산 지역주민 누구나(참여비 무료, 최소 5명이상)   \n",
       "2                     서울에 거주하는 위기상황에 처한 장애인 및 장애인 가족   \n",
       "3  노인장기요양인정을 받은 만 65세 이상의 거동이 불편한 노인 및 노인성질환으로 힘든 성인   \n",
       "4  - 서울, 경기지역 거주자 중 아래에 해당하는 자\\n \\n  1) 드론 : 사회적배...   \n",
       "\n",
       "                                                what category  start_date  \\\n",
       "0  지원내용 : 아동 1인당 총 120만원 심리치료비 지원(종합검사 필요 시 종합심리검...    ,9,11  2021-09-01   \n",
       "1  ◆복지용구 체험\\n- 복지용구 안내, 상담\\n- 운영사업 내용안내\\n- 노인장기요양...       ,4  2021-07-28   \n",
       "2  주 보호자의 부재로 인한 돌봄 공백, 병원 동행 지원, 이동 동행 지원 등 장애인 ...    ,11,8  2021-01-01   \n",
       "3  노인장기요양서비스 재가방문요양. 차량방문목욕\\n\\n-방문요양\\n1. 신체활동지원 \\...     ,3,4  2021-01-01   \n",
       "4  - 자격증 취득을 위한 교육비 및 시험비\\n \\n  1) 드론 : 초경량비행장치 무...   ,9,8,6  2021-01-01   \n",
       "\n",
       "     end_date  \n",
       "0  2022-08-31  \n",
       "1  2022-07-28  \n",
       "2  2021-12-31  \n",
       "3  2021-12-31  \n",
       "4  2021-12-31  "
      ]
     },
     "metadata": {},
     "execution_count": 7
    }
   ],
   "metadata": {}
  },
  {
   "cell_type": "markdown",
   "source": [
    "## DB welfare 데이터 전처리"
   ],
   "metadata": {}
  },
  {
   "cell_type": "code",
   "execution_count": 8,
   "source": [
    "# def preprocess_category(df):\n",
    "#     return df.category.split(',')[1]"
   ],
   "outputs": [],
   "metadata": {}
  },
  {
   "cell_type": "code",
   "execution_count": 9,
   "source": [
    "# csv_df.category = csv_df.apply(preprocess_category, axis=1)"
   ],
   "outputs": [],
   "metadata": {
    "scrolled": true
   }
  },
  {
   "cell_type": "code",
   "execution_count": 10,
   "source": [
    "csv_df['url'] = 'https://www.bokjiro.go.kr/ssis-teu/index.do'\n",
    "csv_welfare_df = csv_df.drop(['category'], axis=1)"
   ],
   "outputs": [],
   "metadata": {}
  },
  {
   "cell_type": "code",
   "execution_count": 11,
   "source": [
    "csv_welfare_df.info()"
   ],
   "outputs": [
    {
     "output_type": "stream",
     "name": "stdout",
     "text": [
      "<class 'pandas.core.frame.DataFrame'>\n",
      "Int64Index: 51 entries, 0 to 52\n",
      "Data columns (total 7 columns):\n",
      " #   Column      Non-Null Count  Dtype \n",
      "---  ------      --------------  ----- \n",
      " 0   title       51 non-null     object\n",
      " 1   summary     51 non-null     object\n",
      " 2   who         51 non-null     object\n",
      " 3   what        51 non-null     object\n",
      " 4   start_date  51 non-null     object\n",
      " 5   end_date    51 non-null     object\n",
      " 6   url         51 non-null     object\n",
      "dtypes: object(7)\n",
      "memory usage: 3.2+ KB\n"
     ]
    }
   ],
   "metadata": {}
  },
  {
   "cell_type": "markdown",
   "source": [
    "## DB category 데이터 전처리"
   ],
   "metadata": {}
  },
  {
   "cell_type": "code",
   "execution_count": 12,
   "source": [
    "# db primary key인 welfare_id에 맞는 index key 만들기\n",
    "index_keys = list(range(356, 407))\n",
    "csv_df['index_keys'] = index_keys"
   ],
   "outputs": [],
   "metadata": {}
  },
  {
   "cell_type": "code",
   "execution_count": 13,
   "source": [
    "csv_category_df = csv_df[['index_keys', 'category']]"
   ],
   "outputs": [],
   "metadata": {}
  },
  {
   "cell_type": "code",
   "execution_count": 14,
   "source": [
    "def preprocess_category(df):\n",
    "    row_split = df['category'].split(',')\n",
    "    row_split = [item for item in row_split if item != '' and item != ',']\n",
    "    return row_split"
   ],
   "outputs": [],
   "metadata": {}
  },
  {
   "cell_type": "code",
   "execution_count": 15,
   "source": [
    "csv_category_df['category'] = csv_category_df.apply(preprocess_category, axis=1)"
   ],
   "outputs": [
    {
     "output_type": "stream",
     "name": "stderr",
     "text": [
      "/var/folders/rv/0x088r054p1fqttypsfr1jk00000gn/T/ipykernel_2709/564217557.py:1: SettingWithCopyWarning: \n",
      "A value is trying to be set on a copy of a slice from a DataFrame.\n",
      "Try using .loc[row_indexer,col_indexer] = value instead\n",
      "\n",
      "See the caveats in the documentation: https://pandas.pydata.org/pandas-docs/stable/user_guide/indexing.html#returning-a-view-versus-a-copy\n",
      "  csv_category_df['category'] = csv_category_df.apply(preprocess_category, axis=1)\n"
     ]
    }
   ],
   "metadata": {}
  },
  {
   "cell_type": "code",
   "execution_count": 16,
   "source": [
    "csv_category_df.head()"
   ],
   "outputs": [
    {
     "output_type": "execute_result",
     "data": {
      "text/html": [
       "<div>\n",
       "<style scoped>\n",
       "    .dataframe tbody tr th:only-of-type {\n",
       "        vertical-align: middle;\n",
       "    }\n",
       "\n",
       "    .dataframe tbody tr th {\n",
       "        vertical-align: top;\n",
       "    }\n",
       "\n",
       "    .dataframe thead th {\n",
       "        text-align: right;\n",
       "    }\n",
       "</style>\n",
       "<table border=\"1\" class=\"dataframe\">\n",
       "  <thead>\n",
       "    <tr style=\"text-align: right;\">\n",
       "      <th></th>\n",
       "      <th>index_keys</th>\n",
       "      <th>category</th>\n",
       "    </tr>\n",
       "  </thead>\n",
       "  <tbody>\n",
       "    <tr>\n",
       "      <th>0</th>\n",
       "      <td>356</td>\n",
       "      <td>[9, 11]</td>\n",
       "    </tr>\n",
       "    <tr>\n",
       "      <th>1</th>\n",
       "      <td>357</td>\n",
       "      <td>[4]</td>\n",
       "    </tr>\n",
       "    <tr>\n",
       "      <th>2</th>\n",
       "      <td>358</td>\n",
       "      <td>[11, 8]</td>\n",
       "    </tr>\n",
       "    <tr>\n",
       "      <th>3</th>\n",
       "      <td>359</td>\n",
       "      <td>[3, 4]</td>\n",
       "    </tr>\n",
       "    <tr>\n",
       "      <th>4</th>\n",
       "      <td>360</td>\n",
       "      <td>[9, 8, 6]</td>\n",
       "    </tr>\n",
       "  </tbody>\n",
       "</table>\n",
       "</div>"
      ],
      "text/plain": [
       "   index_keys   category\n",
       "0         356    [9, 11]\n",
       "1         357        [4]\n",
       "2         358    [11, 8]\n",
       "3         359     [3, 4]\n",
       "4         360  [9, 8, 6]"
      ]
     },
     "metadata": {},
     "execution_count": 16
    }
   ],
   "metadata": {}
  },
  {
   "cell_type": "code",
   "execution_count": 17,
   "source": [
    "new_category_df = pd.DataFrame(columns = ['welfare_id', 'category_id'])"
   ],
   "outputs": [],
   "metadata": {}
  },
  {
   "cell_type": "code",
   "execution_count": 18,
   "source": [
    "for index, row in csv_category_df.iterrows():\n",
    "    categories = row.category;\n",
    "    for category in categories:\n",
    "        new_df = pd.DataFrame([(row.index_keys, category)], columns=['welfare_id','category_id'])\n",
    "        new_category_df = new_category_df.append(new_df, ignore_index=True)"
   ],
   "outputs": [],
   "metadata": {}
  },
  {
   "cell_type": "code",
   "execution_count": 19,
   "source": [
    "new_category_df.head()"
   ],
   "outputs": [
    {
     "output_type": "execute_result",
     "data": {
      "text/html": [
       "<div>\n",
       "<style scoped>\n",
       "    .dataframe tbody tr th:only-of-type {\n",
       "        vertical-align: middle;\n",
       "    }\n",
       "\n",
       "    .dataframe tbody tr th {\n",
       "        vertical-align: top;\n",
       "    }\n",
       "\n",
       "    .dataframe thead th {\n",
       "        text-align: right;\n",
       "    }\n",
       "</style>\n",
       "<table border=\"1\" class=\"dataframe\">\n",
       "  <thead>\n",
       "    <tr style=\"text-align: right;\">\n",
       "      <th></th>\n",
       "      <th>welfare_id</th>\n",
       "      <th>category_id</th>\n",
       "    </tr>\n",
       "  </thead>\n",
       "  <tbody>\n",
       "    <tr>\n",
       "      <th>0</th>\n",
       "      <td>356</td>\n",
       "      <td>9</td>\n",
       "    </tr>\n",
       "    <tr>\n",
       "      <th>1</th>\n",
       "      <td>356</td>\n",
       "      <td>11</td>\n",
       "    </tr>\n",
       "    <tr>\n",
       "      <th>2</th>\n",
       "      <td>357</td>\n",
       "      <td>4</td>\n",
       "    </tr>\n",
       "    <tr>\n",
       "      <th>3</th>\n",
       "      <td>358</td>\n",
       "      <td>11</td>\n",
       "    </tr>\n",
       "    <tr>\n",
       "      <th>4</th>\n",
       "      <td>358</td>\n",
       "      <td>8</td>\n",
       "    </tr>\n",
       "  </tbody>\n",
       "</table>\n",
       "</div>"
      ],
      "text/plain": [
       "  welfare_id category_id\n",
       "0        356           9\n",
       "1        356          11\n",
       "2        357           4\n",
       "3        358          11\n",
       "4        358           8"
      ]
     },
     "metadata": {},
     "execution_count": 19
    }
   ],
   "metadata": {}
  },
  {
   "cell_type": "code",
   "execution_count": 20,
   "source": [
    "new_category_df.info()"
   ],
   "outputs": [
    {
     "output_type": "stream",
     "name": "stdout",
     "text": [
      "<class 'pandas.core.frame.DataFrame'>\n",
      "RangeIndex: 89 entries, 0 to 88\n",
      "Data columns (total 2 columns):\n",
      " #   Column       Non-Null Count  Dtype \n",
      "---  ------       --------------  ----- \n",
      " 0   welfare_id   89 non-null     object\n",
      " 1   category_id  89 non-null     object\n",
      "dtypes: object(2)\n",
      "memory usage: 1.5+ KB\n"
     ]
    }
   ],
   "metadata": {}
  },
  {
   "cell_type": "code",
   "execution_count": 21,
   "source": [
    "# sql db에 올리기\n",
    "import mysql.connector\n",
    "from mysql.connector.constants import ClientFlag"
   ],
   "outputs": [],
   "metadata": {}
  },
  {
   "cell_type": "code",
   "execution_count": 22,
   "source": [
    "import config\n",
    "\n",
    "# now we establish our connection\n",
    "cnxn = mysql.connector.connect(**config.DATABASE_CONFIG)\n",
    "cursor = cnxn.cursor(prepared=True)"
   ],
   "outputs": [],
   "metadata": {}
  },
  {
   "cell_type": "code",
   "execution_count": 22,
   "source": [
    "import copy\n",
    "result_final=copy.deepcopy(csv_welfare_df) \n",
    "# welfare table commit\n",
    "query = (\"\"\"INSERT INTO welfare (title, summary, who,what,start_date, end_date, url) VALUES (%s, %s, %s, %s, %s, %s, %s)\"\"\") #table name 바꾸는 거 기억하기\n",
    "input_data=[tuple(x) for x in result_final.to_records(index=False)]\n",
    "cursor.executemany(query, input_data) #error 나는 이유가 tuple이 아니라 numpy.record이기 때문\n",
    "\n",
    "cnxn.commit()  # and commit changes\n",
    "cnxn.close() "
   ],
   "outputs": [],
   "metadata": {}
  },
  {
   "cell_type": "code",
   "execution_count": 23,
   "source": [
    "import copy\n",
    "result_category_final=copy.deepcopy(new_category_df) \n",
    "# welfare table commit\n",
    "query = (\"\"\"INSERT INTO welfare_category (welfare_id, category_id) VALUES (%s, %s)\"\"\") #table name 바꾸는 거 기억하기\n",
    "input_data=[tuple(x) for x in result_category_final.to_records(index=False)]\n",
    "cursor.executemany(query, input_data) #error 나는 이유가 tuple이 아니라 numpy.record이기 때문\n",
    "\n",
    "cnxn.commit()  # and commit changes\n",
    "cnxn.close() "
   ],
   "outputs": [],
   "metadata": {}
  },
  {
   "cell_type": "code",
   "execution_count": null,
   "source": [],
   "outputs": [],
   "metadata": {}
  }
 ],
 "metadata": {
  "kernelspec": {
   "display_name": "Python 3 (ipykernel)",
   "language": "python",
   "name": "python3"
  },
  "language_info": {
   "codemirror_mode": {
    "name": "ipython",
    "version": 3
   },
   "file_extension": ".py",
   "mimetype": "text/x-python",
   "name": "python",
   "nbconvert_exporter": "python",
   "pygments_lexer": "ipython3",
   "version": "3.8.11"
  }
 },
 "nbformat": 4,
 "nbformat_minor": 5
}