{
 "cells": [
  {
   "cell_type": "code",
   "execution_count": 5,
   "metadata": {},
   "outputs": [
    {
     "name": "stdout",
     "output_type": "stream",
     "text": [
      "using cached model\n",
      "using cached model\n",
      "using cached model\n",
      "Load Model\n"
     ]
    }
   ],
   "source": [
    "# model 불러기\n",
    "from sentence_transformers import SentenceTransformer, util\n",
    "import numpy as np\n",
    "import pandas as pd\n",
    "\n",
    "model_path = './output/training_sts'\n",
    "\n",
    "embedder = SentenceTransformer(model_path, device='cpu')"
   ]
  },
  {
   "cell_type": "code",
   "execution_count": 6,
   "metadata": {},
   "outputs": [],
   "source": [
    "# cosine similarity function\n",
    "from numpy import dot\n",
    "from numpy.linalg import norm\n",
    "def cos_sim(A, B):\n",
    "       return dot(A, B)/(norm(A)*norm(B)) ## A, B는 array"
   ]
  },
  {
   "cell_type": "code",
   "execution_count": 14,
   "metadata": {},
   "outputs": [],
   "source": [
    "# extracting top results\n",
    "# em_se_embedding : series, em_query : numpy\n",
    "import json\n",
    "\n",
    "def extract_top(em_se_embedding, em_query): \n",
    "    cos_sim_query = pd.DataFrame()\n",
    "    for i in range(em_se_embedding.size):\n",
    "      cos_sim_query.loc[i, 'cos_sim'] = cos_sim(np.array(json.loads(em_se_embedding[i])), em_query)\n",
    "    cos_sim_query = cos_sim_query.sort_values(\"cos_sim\")\n",
    "    top_sm = cos_sim_query.index[0:5].tolist()\n",
    "    return top_sm"
   ]
  },
  {
   "cell_type": "code",
   "execution_count": 9,
   "metadata": {},
   "outputs": [],
   "source": [
    "# 복지정책 embedded sentence 불러오기\n",
    "import pandas as pd\n",
    "corpus_embedding = pd.read_csv(\"corpus_embedding.csv\", encoding = \"utf-8-sig\")\n",
    "em_se_embedding = corpus_embedding['embedding']"
   ]
  },
  {
   "cell_type": "code",
   "execution_count": 10,
   "metadata": {},
   "outputs": [],
   "source": [
    "# Query sentences:\n",
    "queries = ['임산부 복지 정책 알려줘.',\n",
    "           '아동 복지 알려줘.',\n",
    "           '저소득 가구 복지 알고 싶어.']"
   ]
  },
  {
   "cell_type": "code",
   "execution_count": 46,
   "metadata": {},
   "outputs": [
    {
     "name": "stdout",
     "output_type": "stream",
     "text": [
      "\n",
      "\n",
      "======================\n",
      "\n",
      "\n",
      "Query: 임산부 복지 정책 알려줘.\n",
      "time : 8.625651121139526\n",
      "\n",
      "Top 5 most similar sentences in corpus:\n",
      "청소년 유해환경 개선 선정된 민간단체가 청소년을 대상으로 유해약물을 불법으로 판매하는 업소에 대하여 모니터링을 실시합니다.\n",
      "애국지사 특별예우금 일제강점기에 나라를 위해 자신을 희생한 애국지사의 뜻을 기리고명예를 지킬 수 있도록 예우금을 지급합니다.\n",
      "재해보상금 군복무 중 사망한 군인 또는 의무경찰 등의 유족에게 사망보상금을 지급하거나,의무경찰 등이 복무 중 부상을 입고 퇴직한 경우 상이급여금을 지원합니다.\n",
      "청소년 국제교류 청소년의 국제 교류를 통해 국가간 우의를 증진하고 국가간 협력기반을 조성하여 글로벌 리더의 역량을 개발하도록 지원합니다.\n",
      "청소년사이버상담센터 운영 어려움을 겪고 있는 청소년에게 사이버상담센터에서 인터넷으로 상담합니다.\n",
      "\n",
      "\n",
      "======================\n",
      "\n",
      "\n",
      "Query: 아동 복지 알려줘.\n",
      "time : 6.843028783798218\n",
      "\n",
      "Top 5 most similar sentences in corpus:\n",
      "산재근로자 창업점포지원 실업 중인 산업재해 근로자의 자립을 위하여 창업점포를 임대할 수 있도록 지원합니다.* 2019년도부터 신규신청 중단(’18년도까지 기 지원자에 대해 최장6년 지원계속)\n",
      "재해보상금 군복무 중 사망한 군인 또는 의무경찰 등의 유족에게 사망보상금을 지급하거나,의무경찰 등이 복무 중 부상을 입고 퇴직한 경우 상이급여금을 지원합니다.\n",
      "영주귀국정착금 일제강점기 독립운동을 위해 국외로 망명하였다가 귀국하지 못하고 해외에서 거주하다 국내로 영주 귀국하는 독립유공자와 그 유족이 안정적으로 국내에 정착할 수 있도록 지원합니다.\n",
      "산재근로자 직장 복귀지원 산업재해로 장해를 입은 근로자가 기존 직장으로 복귀할 수 있도록 지원합니다.\n",
      "중장년 기술창업센터 지원 경력, 네트워크, 전문성을 보유한 중장년 (예비)창업자의 기술창업 활성화를 위해 창업교육과 창업거점을 지원합니다.\n",
      "\n",
      "\n",
      "======================\n",
      "\n",
      "\n",
      "Query: 저소득 가구 복지 알고 싶어.\n",
      "time : 7.993528604507446\n",
      "\n",
      "Top 5 most similar sentences in corpus:\n",
      "재해보상금 군복무 중 사망한 군인 또는 의무경찰 등의 유족에게 사망보상금을 지급하거나,의무경찰 등이 복무 중 부상을 입고 퇴직한 경우 상이급여금을 지원합니다.\n",
      "여성창업경진대회 여성기업의 창업을 지원함으로써 여성창업을 활성화하고 여성기업의 경쟁력을 강화시킵니다.\n",
      "독립유공자 제수비 지급 사망한 독립유공자 기일에 독립유공자의 수권유족에게 제수비를 지원합니다.\n",
      "여성기업 판로지원 여성이 운영하는 기업의 해외 진출을 지원함으로써여성 창업 활성화와 여성 기업의 경쟁력 강화를 도모합니다.\n",
      "산재근로자 창업점포지원 실업 중인 산업재해 근로자의 자립을 위하여 창업점포를 임대할 수 있도록 지원합니다.* 2019년도부터 신규신청 중단(’18년도까지 기 지원자에 대해 최장6년 지원계속)\n"
     ]
    }
   ],
   "source": [
    "# Find the closest 5 sentences of the corpus for each query sentence based on cosine similarity\n",
    "import time\n",
    "\n",
    "top_k = 5\n",
    "for query in queries:\n",
    "    start = time.time()  # 시작 시간 저장\n",
    "    query_embedding = embedder.encode(query, convert_to_tensor=True)\n",
    "    query_embedding = query_embedding.numpy()\n",
    "    query_embedding = query_embedding.astype(float)\n",
    "\n",
    "    #We use np.argpartition, to only partially sort the top_k results\n",
    "    top_results = extract_top(em_se_embedding, query_embedding)\n",
    "\n",
    "    print(\"\\n\\n======================\\n\\n\")\n",
    "    print(\"Query:\", query)\n",
    "    print(\"time :\", time.time() - start)  # 현재시각 - 시작시간 = 실행 시간\n",
    "    print(\"\\nTop 5 most similar sentences in corpus:\")\n",
    "\n",
    "    for idx in top_results[0:top_k]:\n",
    "        print(corpus_embedding.loc[idx,'full'])\n",
    "\n"
   ]
  },
  {
   "cell_type": "code",
   "execution_count": 47,
   "metadata": {},
   "outputs": [
    {
     "name": "stdout",
     "output_type": "stream",
     "text": [
      "\n",
      "\n",
      "======================\n",
      "\n",
      "\n",
      "Query: 임산부\n",
      "time : 4.372488021850586\n",
      "\n",
      "Top 5 most similar sentences in corpus:\n",
      "청소년 국제교류 청소년의 국제 교류를 통해 국가간 우의를 증진하고 국가간 협력기반을 조성하여 글로벌 리더의 역량을 개발하도록 지원합니다.\n",
      "매체활용능력 증진 및 역기능 해소(청소년 인터넷·스마트폰 중독 치료비 지원) 인터넷과 스마트폰에 과의존하는 청소년의 중독 예방 및 상담·치료를 지원합니다.\n",
      "농업인 안전보험 농업인이 농작업 중 발생한 피해 보상을 위해 가입하는 정책보험 보험료의 일부를 지원하여, 경영안정을 도모하고 안정적인 재생산활동을 지원합니다.\n",
      "청소년활동지원 청소년이 꿈을 펼칠 수 있도록 다양한 체험활동 기회를 제공하여 개성과 창의성을 개발하고 건강하게 성장하도록 지원합니다.\n",
      "스포츠강좌이용권 저소득층 청소년에게 지속적인 스포츠 활동 기회를 보장하여 체력향상과 건전한 여가활동을 지원합니다.\n",
      "\n",
      "\n",
      "======================\n",
      "\n",
      "\n",
      "Query: 아동 복지\n",
      "time : 3.781172037124634\n",
      "\n",
      "Top 5 most similar sentences in corpus:\n",
      "산재근로자 창업점포지원 실업 중인 산업재해 근로자의 자립을 위하여 창업점포를 임대할 수 있도록 지원합니다.* 2019년도부터 신규신청 중단(’18년도까지 기 지원자에 대해 최장6년 지원계속)\n",
      "영주귀국정착금 일제강점기 독립운동을 위해 국외로 망명하였다가 귀국하지 못하고 해외에서 거주하다 국내로 영주 귀국하는 독립유공자와 그 유족이 안정적으로 국내에 정착할 수 있도록 지원합니다.\n",
      "이공계 국가우수장학금 이공계 우수 학생을 발굴하여 미래의 핵심인재로 성장할 수 있도록 국가우수장학금을 지급합니다.\n",
      "장기복무 제대군인 취업지원 오랫동안 복무하고 전역한 제대군인이 원활하게 사회에 복귀할 수 있도록 취업을 지원하고, 특기와 적성에 맞는 직업교육 훈련을 제공함으로써 취업역량을 강화하고 취업률을 높입니다.\n",
      "여성기업 판로지원 여성이 운영하는 기업의 해외 진출을 지원함으로써여성 창업 활성화와 여성 기업의 경쟁력 강화를 도모합니다.\n",
      "\n",
      "\n",
      "======================\n",
      "\n",
      "\n",
      "Query: 저소득 가구\n",
      "time : 4.346589088439941\n",
      "\n",
      "Top 5 most similar sentences in corpus:\n",
      "산림서비스도우미 숲길등산지도사 등 산림서비스 도우미를 고용하여 일자리를 창출하고, 국민에게 산림서비스를 제공합니다.\n",
      "재해보상금 군복무 중 사망한 군인 또는 의무경찰 등의 유족에게 사망보상금을 지급하거나,의무경찰 등이 복무 중 부상을 입고 퇴직한 경우 상이급여금을 지원합니다.\n",
      "장애인보조견 전문훈련기관 지원 장애인의 안전하고 원활한 생활을 돕기 위해 보조견을 보급하고,훈련하는 일을 지원합니다.\n",
      "청소년 국제교류 청소년의 국제 교류를 통해 국가간 우의를 증진하고 국가간 협력기반을 조성하여 글로벌 리더의 역량을 개발하도록 지원합니다.\n",
      "애국지사 특별예우금 일제강점기에 나라를 위해 자신을 희생한 애국지사의 뜻을 기리고명예를 지킬 수 있도록 예우금을 지급합니다.\n"
     ]
    }
   ],
   "source": [
    "# Query sentences:\n",
    "queries = ['임산부',\n",
    "           '아동 복지',\n",
    "           '저소득 가구']\n",
    "\n",
    "# Find the closest 5 sentences of the corpus for each query sentence based on cosine similarity\n",
    "import time\n",
    "\n",
    "top_k = 5\n",
    "for query in queries:\n",
    "    start = time.time()  # 시작 시간 저장\n",
    "    query_embedding = embedder.encode(query, convert_to_tensor=True)\n",
    "    query_embedding = query_embedding.numpy()\n",
    "    query_embedding = query_embedding.astype(float)\n",
    "\n",
    "    #We use np.argpartition, to only partially sort the top_k results\n",
    "    top_results = extract_top(em_se_embedding, query_embedding)\n",
    "\n",
    "    print(\"\\n\\n======================\\n\\n\")\n",
    "    print(\"Query:\", query)\n",
    "    print(\"time :\", time.time() - start)  # 현재시각 - 시작시간 = 실행 시간\n",
    "    print(\"\\nTop 5 most similar sentences in corpus:\")\n",
    "\n",
    "    for idx in top_results[0:top_k]:\n",
    "        print(corpus_embedding.loc[idx,'full'])\n"
   ]
  },
  {
   "cell_type": "code",
   "execution_count": null,
   "metadata": {},
   "outputs": [],
   "source": []
  }
 ],
 "metadata": {
  "kernelspec": {
   "display_name": "Python 3",
   "language": "python",
   "name": "python3"
  },
  "language_info": {
   "codemirror_mode": {
    "name": "ipython",
    "version": 3
   },
   "file_extension": ".py",
   "mimetype": "text/x-python",
   "name": "python",
   "nbconvert_exporter": "python",
   "pygments_lexer": "ipython3",
   "version": "3.7.6"
  }
 },
 "nbformat": 4,
 "nbformat_minor": 4
}
