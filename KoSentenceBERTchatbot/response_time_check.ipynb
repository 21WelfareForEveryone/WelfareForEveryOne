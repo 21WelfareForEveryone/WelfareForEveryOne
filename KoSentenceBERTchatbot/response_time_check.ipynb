{
 "cells": [
  {
   "cell_type": "code",
   "execution_count": 1,
   "metadata": {},
   "outputs": [
    {
     "name": "stdout",
     "output_type": "stream",
     "text": [
      "using cached model\n",
      "using cached model\n",
      "using cached model\n",
      "Load Model\n",
      "time : 44.45304775238037\n"
     ]
    }
   ],
   "source": [
    "from sentence_transformers import SentenceTransformer, util\n",
    "import numpy as np\n",
    "import time\n",
    "\n",
    "model_path = './output/training_sts'\n",
    "\n",
    "start = time.time()  # 시작 시간 저장\n",
    "embedder = SentenceTransformer(model_path, device='cpu')\n",
    "print(\"time :\", time.time() - start)  # 현재시각 - 시작시간 = 실행 시간"
   ]
  },
  {
   "cell_type": "code",
   "execution_count": 2,
   "metadata": {},
   "outputs": [
    {
     "name": "stdout",
     "output_type": "stream",
     "text": [
      "time : 309.6788008213043\n"
     ]
    }
   ],
   "source": [
    "# Corpus with example sentences\n",
    "corpus = ['아동통합서비스지원(드림스타트사업) 취약계층 아동에게 맞춤형 통합서비스를 제공하여 건강한 성장과 발달을 도모하고 공평한 출발 기회를 보장함으로써 건강하고 행복한 사회구성원으로 성장할 수 있도록 지원합니다.',\n",
    "\n",
    "'의료급여(요양비) 의료급여 수급권자에게 의료비를 지원하여 저소득층의 국민보건 향상과 사회복지 증진에 기여합니다.',\n",
    "\n",
    "'출산육아기 고용안정장려금 육아휴직·육아기 근로시간 단축 등에 따른 사업주의 노무 비용 부담을 완화하고 육아휴직 등 기간 중 대체인력 활용을 촉진하여 고용안정을 도모합니다.',\n",
    "\n",
    "'의료급여 의료급여수급권자에게 의료비를 지원하여 국민보건 향상 및 사회복지 증진에 기여합니다.',\n",
    "\n",
    "'에너지바우처 에너지 사용에 취약한 저소득 가구의 동하절기 냉난방을 위한 에너지 사용을 보조하고 에너지가 보편적으로 공급될 수 있도록 에너지이용권(바우처 형태)를 지원하는 제도입니다.',\n",
    "\n",
    "'의료급여임신·출산진료비지원 임신이 확인된 의료급여 수급권자에게 임신과 출산에 필요한 의료비를 지원합니다.',\n",
    "\n",
    "'해산급여 수급자 가구의 임산부가 출산 예정이거나 출산한 경우에 해산비를 지급합니다.',\n",
    "\n",
    "'선천성대사이상 검사 및 환아관리 장애발생을 사전에 예방하여 영유아의 건강을 증진합니다.',\n",
    "\n",
    "'어촌생활돌봄지원 어업인 및 어촌지역의 고령·취약가구에 어촌생활돌봄도우미를 지원하여 기초적인 가정생활을 유지하도록 돕습니다.']\n",
    "\n",
    "start = time.time()  # 시작 시간 저장\n",
    "corpus_embeddings = embedder.encode(corpus, convert_to_tensor=True)\n",
    "print(\"time :\", time.time() - start)  # 현재시각 - 시작시간 = 실행 시간"
   ]
  },
  {
   "cell_type": "code",
   "execution_count": 5,
   "metadata": {},
   "outputs": [
    {
     "data": {
      "text/plain": [
       "torch.Size([9, 768])"
      ]
     },
     "execution_count": 5,
     "metadata": {},
     "output_type": "execute_result"
    }
   ],
   "source": [
    "corpus_embeddings.size()"
   ]
  },
  {
   "cell_type": "code",
   "execution_count": 3,
   "metadata": {},
   "outputs": [
    {
     "name": "stdout",
     "output_type": "stream",
     "text": [
      "\n",
      "\n",
      "======================\n",
      "\n",
      "\n",
      "Query: 임산부 복지 정책 알려줘.\n",
      "\n",
      "Top 5 most similar sentences in corpus:\n",
      "의료급여임신·출산진료비지원 임신이 확인된 의료급여 수급권자에게 임신과 출산에 필요한 의료비를 지원합니다. (Score: 0.7163)\n",
      "time : 7.250464916229248\n",
      "해산급여 수급자 가구의 임산부가 출산 예정이거나 출산한 경우에 해산비를 지급합니다. (Score: 0.6505)\n",
      "time : 7.25085711479187\n",
      "아동통합서비스지원(드림스타트사업) 취약계층 아동에게 맞춤형 통합서비스를 제공하여 건강한 성장과 발달을 도모하고 공평한 출발 기회를 보장함으로써 건강하고 행복한 사회구성원으로 성장할 수 있도록 지원합니다. (Score: 0.5714)\n",
      "time : 7.251187324523926\n",
      "의료급여(요양비) 의료급여 수급권자에게 의료비를 지원하여 저소득층의 국민보건 향상과 사회복지 증진에 기여합니다. (Score: 0.5223)\n",
      "time : 7.251507997512817\n",
      "출산육아기 고용안정장려금 육아휴직·육아기 근로시간 단축 등에 따른 사업주의 노무 비용 부담을 완화하고 육아휴직 등 기간 중 대체인력 활용을 촉진하여 고용안정을 도모합니다. (Score: 0.4980)\n",
      "time : 7.2518486976623535\n",
      "\n",
      "\n",
      "======================\n",
      "\n",
      "\n",
      "Query: 아동 복지 알려줘.\n",
      "\n",
      "Top 5 most similar sentences in corpus:\n",
      "아동통합서비스지원(드림스타트사업) 취약계층 아동에게 맞춤형 통합서비스를 제공하여 건강한 성장과 발달을 도모하고 공평한 출발 기회를 보장함으로써 건강하고 행복한 사회구성원으로 성장할 수 있도록 지원합니다. (Score: 0.6098)\n",
      "time : 5.5024614334106445\n",
      "의료급여(요양비) 의료급여 수급권자에게 의료비를 지원하여 저소득층의 국민보건 향상과 사회복지 증진에 기여합니다. (Score: 0.4954)\n",
      "time : 5.50283145904541\n",
      "선천성대사이상 검사 및 환아관리 장애발생을 사전에 예방하여 영유아의 건강을 증진합니다. (Score: 0.4931)\n",
      "time : 5.5031633377075195\n",
      "의료급여 의료급여수급권자에게 의료비를 지원하여 국민보건 향상 및 사회복지 증진에 기여합니다. (Score: 0.4765)\n",
      "time : 5.5080180168151855\n",
      "어촌생활돌봄지원 어업인 및 어촌지역의 고령·취약가구에 어촌생활돌봄도우미를 지원하여 기초적인 가정생활을 유지하도록 돕습니다. (Score: 0.4324)\n",
      "time : 5.509450674057007\n",
      "\n",
      "\n",
      "======================\n",
      "\n",
      "\n",
      "Query: 저소득 가구 복지 알고 싶어.\n",
      "\n",
      "Top 5 most similar sentences in corpus:\n",
      "의료급여(요양비) 의료급여 수급권자에게 의료비를 지원하여 저소득층의 국민보건 향상과 사회복지 증진에 기여합니다. (Score: 0.5893)\n",
      "time : 6.674084901809692\n",
      "어촌생활돌봄지원 어업인 및 어촌지역의 고령·취약가구에 어촌생활돌봄도우미를 지원하여 기초적인 가정생활을 유지하도록 돕습니다. (Score: 0.5609)\n",
      "time : 6.67440128326416\n",
      "의료급여 의료급여수급권자에게 의료비를 지원하여 국민보건 향상 및 사회복지 증진에 기여합니다. (Score: 0.5365)\n",
      "time : 6.6747941970825195\n",
      "에너지바우처 에너지 사용에 취약한 저소득 가구의 동하절기 냉난방을 위한 에너지 사용을 보조하고 에너지가 보편적으로 공급될 수 있도록 에너지이용권(바우처 형태)를 지원하는 제도입니다. (Score: 0.5092)\n",
      "time : 6.675138235092163\n",
      "아동통합서비스지원(드림스타트사업) 취약계층 아동에게 맞춤형 통합서비스를 제공하여 건강한 성장과 발달을 도모하고 공평한 출발 기회를 보장함으로써 건강하고 행복한 사회구성원으로 성장할 수 있도록 지원합니다. (Score: 0.4693)\n",
      "time : 6.675436019897461\n"
     ]
    }
   ],
   "source": [
    "# Query sentences:\n",
    "queries = ['임산부 복지 정책 알려줘.',\n",
    "           '아동 복지 알려줘.',\n",
    "           '저소득 가구 복지 알고 싶어.']\n",
    "\n",
    "# Find the closest 5 sentences of the corpus for each query sentence based on cosine similarity\n",
    "top_k = 5\n",
    "\n",
    "for query in queries:\n",
    "    start = time.time()  # 시작 시간 저장\n",
    "    query_embedding = embedder.encode(query, convert_to_tensor=True)\n",
    "    cos_scores = util.pytorch_cos_sim(query_embedding, corpus_embeddings)[0]\n",
    "    cos_scores = cos_scores.cpu()\n",
    "\n",
    "    #We use np.argpartition, to only partially sort the top_k results\n",
    "    top_results = np.argpartition(-cos_scores, range(top_k))[0:top_k]\n",
    "\n",
    "    print(\"\\n\\n======================\\n\\n\")\n",
    "    print(\"Query:\", query)\n",
    "    print(\"\\nTop 5 most similar sentences in corpus:\")\n",
    "\n",
    "    for idx in top_results[0:top_k]:\n",
    "        print(corpus[idx].strip(), \"(Score: %.4f)\" % (cos_scores[idx]))\n",
    "        print(\"time :\", time.time() - start)  # 현재시각 - 시작시간 = 실행 시간\n",
    "\n"
   ]
  },
  {
   "cell_type": "code",
   "execution_count": null,
   "metadata": {},
   "outputs": [],
   "source": []
  }
 ],
 "metadata": {
  "kernelspec": {
   "display_name": "Python 3",
   "language": "python",
   "name": "python3"
  },
  "language_info": {
   "codemirror_mode": {
    "name": "ipython",
    "version": 3
   },
   "file_extension": ".py",
   "mimetype": "text/x-python",
   "name": "python",
   "nbconvert_exporter": "python",
   "pygments_lexer": "ipython3",
   "version": "3.7.6"
  }
 },
 "nbformat": 4,
 "nbformat_minor": 4
}
